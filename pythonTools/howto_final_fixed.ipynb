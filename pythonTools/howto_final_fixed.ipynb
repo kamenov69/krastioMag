{
 "cells": [
  {
   "cell_type": "markdown",
   "id": "b9c4e92f",
   "metadata": {},
   "source": [
    "# Увод\n",
    "\n",
    "## Как е изградена системата: В основата се намира Arduino със фърмуер написан\n",
    "за целта. По сериен канал, емулиран през USB-to се изпращат текстови команди от сорта\n",
    "на mode, uv, help ... и Ардуиното връща резултат пак по същият канал. Във фърмуера\n",
    "krastioMag, най-общо, с команди могат да се четат напреженията na 4 независими входа\n",
    "в миливолти и дистанцията от два сензора вързани паралелно. Командите и резултатите\n",
    "могат да се предават от и към PC с:\n",
    "\n",
    ">> Инсталирана терминална програма примерно RealTerm\n",
    "за windows или screen за Linux\n",
    "\n",
    ">> Да се използва драивер krastioMag.py , който **прави всички команди на Ардуиното на питонски функции**, които се изпълняват като нормални\n",
    "питонски функции. Освен това добавя и допълнителна функционалност - резултата от\n",
    "аналоговият вход може да бъде преизчислен през полином.\n",
    "\n",
    ">> Драивера krastioMag.py\n",
    "може да бъде стартиран и като изпълнима програма, тогава става сървър през мрежата\n",
    "на ардуиното. Потребителската програма, вместо да го импортне, трябва да стартира\n",
    "специален клиент. В този документ се описва по-подробно как стават нещата."
   ]
  },
  {
   "cell_type": "markdown",
   "id": "c38d1785",
   "metadata": {},
   "source": [
    "# Импортиране ..."
   ]
  },
  {
   "cell_type": "markdown",
   "id": "0511f5ea",
   "metadata": {},
   "source": [
    "Устройството Системата може да се използва по три начина - Arduino s натоеарен фирмуер\n",
    "krastioMag: >-a/ през терминална програма свързана на /dev/ttyACM0 (comN, N =1, 2,\n",
    "... Windows) 9600 8,n >-b/ през python по ip и драйвера krastioMag.py >-c/ директно\n",
    "пи импортване krastioMag"
   ]
  },
  {
   "cell_type": "markdown",
   "id": "f310dc64",
   "metadata": {},
   "source": [
    "## Вариант A: През терминална програма свързана на /dev/ttyACM0 (comN, N =1, 2,\n",
    "... Windows) 9600 8,n \n",
    "\n",
    "Може да се използва терминална програма и да се свърже с Ардуиното.\n",
    "Компорта се вижда от device_menagera na Windows, като освен това в терминалната програма\n",
    "трябва да се зададът параметрите на компорта 9600 8,n. Друг вариант е да се стартира\n",
    "platformio и се качи проекта на фирмуера и да се използва монитори. Това става без\n",
    "настройки. Командите се подават по следният начин (**нещата се пишат без кавички**):\n",
    "\n",
    "\n",
    "\">>mode 2 <key_Enter>\" \"<отговор ако е ок> 2\" \n",
    "\n",
    "След тази команда led-а ще започне да свети 3 пъти Друга команда е е \n",
    "\n",
    "hello \">> hello\" \"otgowor ->\" Krastiomag atmega2560\n",
    "\n",
    "\n",
    "Команда 'help' листва всички възможни команди поддържани от Arduino firmware. \n",
    "\">>help\" \n",
    "\n",
    "\"otgowor ->\" \n",
    "\n",
    "calibfromee \n",
    "\n",
    "calibtoee \n",
    "\n",
    "vref \n",
    "\n",
    "aref \n",
    "\n",
    "uv \n",
    "\n",
    "ur \n",
    "\n",
    "auv \n",
    "\n",
    "aur \n",
    "\n",
    "drng \n",
    "\n",
    "dmm \n",
    "\n",
    "mode \n",
    "\n",
    "hello\n",
    "\n",
    "\n",
    "tstval \n",
    "\n",
    "args \n",
    "\n",
    "echo"
   ]
  },
  {
   "cell_type": "markdown",
   "id": "17c92a15",
   "metadata": {},
   "source": [
    "## Вариант B: през python по ip и драйвера krastioMag.py (това е за напреднали, започнете от следващият начи)\n",
    "\n",
    "На компютър с инсталиран pyton и pyserial и zerorpc може да се стартира скрипта krasrtioMag.py За да е успешно, трябва да се поправят редовете с името и номера на компорта в зависимост от конкретната машина и операционна система: По принцип сървърът започва с надписи:\n",
    "\n",
    "$ python krastioMag.py 0. None /dev/ttyS0 \n",
    "\n",
    "1. (www.arduino.cc) /dev/ttyACM0 \n",
    "\n",
    "Board with a name Arduino connected dev /dev/ttyACM0 Startin zerorpc server ... \n",
    "\n",
    "To IP address 192.168.1.106:4242 \n",
    "\n",
    "Първият ще се появи дори и ако скрипта не е поправен. От него може да се черпи информация за компорта и IP address. \n",
    "\n",
    "За да се започне работа трябва малко подготовка: Arduino то трябва да се включи в usb-то на компютъра. Трябва по някакъв начин да се активира анакондата в директорията, където са копирани тези скриптове. Идеята е да може да се стартира питона. от промпт се въвежда: \n",
    "\n",
    "„python ./krystioMagServer.py“ (без кавички) след стартиране на скрипта krystioMagServer.py На екрана се изписва нещо от сорта:\n",
    "\n",
    "---“ списък със свързаните сериини ресурси None /dev/ttyS0 Arduino (www.arduino.cc) /dev/ttyACM0 \n",
    "\n",
    "---“ част от hello<b> Connecting b'Krastio Magnet\\r\\n' serial interface \n",
    "\n",
    "---“ производител на ардуинотоo<b> Made by 'Arduino (www.arduino.cc)' \n",
    "\n",
    "---“ на кой порт<b> on port /dev/ttyACM0 ---“ скорост на връзкаo<b> With baudrate 9600 ... \n",
    "\n",
    "---“ IP adressa на компютъра: порт връзкаo<b> ... To IP address 192.168.1.106:4242 ---“ на кой порт е свързано, в win com1,2,..???o<b> \n",
    "\n",
    "\n",
    "\n",
    "Connected on port /dev/ttyACM0 Докато прозореца е отворен сървърът работи \n",
    "\n",
    "**Сървърът може да бъде прекъснат с натискане на ctl-C комбинация от бутони**"
   ]
  },
  {
   "cell_type": "markdown",
   "id": "71dd3afd",
   "metadata": {},
   "source": [
    "## Стартиране на клиент Ако има вече пуснат сървър, може следващата клетка да бъде\n",
    "изпълнена с натискане на бутона рън."
   ]
  },
  {
   "cell_type": "code",
   "execution_count": 1,
   "id": "d8dda929",
   "metadata": {
    "scrolled": true
   },
   "outputs": [
    {
     "name": "stdout",
     "output_type": "stream",
     "text": [
      "3\n",
      "['Krastiomag', 'atmega2560']\n",
      "['calibfromee',\n",
      " 'calibtoee',\n",
      " 'vref',\n",
      " 'aref',\n",
      " 'uv',\n",
      " 'ur',\n",
      " 'auv',\n",
      " 'aur',\n",
      " 'drng',\n",
      " 'dmm',\n",
      " 'mode',\n",
      " 'hello',\n",
      " 'tstval',\n",
      " 'args',\n",
      " 'echo']\n"
     ]
    }
   ],
   "source": [
    "import zerorpc \n",
    "from pprint import pprint \n",
    "cnt = zerorpc.Client()\n",
    "\n",
    "\n",
    "#cnt.connect(\"tcp://192.168.1.106:4242\")\n",
    "#cnt.connect(\"tcp://192.168.1.109:4242\") # Ако клиента и сървърът са на различни компютри ip-то изписано от сървъра\n",
    "cnt.connect(\"tcp://127.0.0.1:4242\")       # 127.0.0.1 означва същият компютър\n",
    "#---ако горното е изпълнено без грешки ...\n",
    "#\n",
    "pprint(cnt.mode(3)) # след тази команда започва да мига 4 пъти\n",
    "pprint(cnt.hello())\n",
    "\n",
    "#поради някакъв проблем .help() не върви\n",
    "#за да се видят командите на ардуиното\n",
    "#pprint(cnt.command(\"help\"))\n",
    "ard = cnt\n",
    "pprint(ard.command(\"help\"))"
   ]
  },
  {
   "cell_type": "markdown",
   "id": "1cfd0651",
   "metadata": {},
   "source": [
    "### Вариант C: директно пи импортване krastioMag"
   ]
  },
  {
   "cell_type": "markdown",
   "id": "bf3f3343",
   "metadata": {},
   "source": [
    "Трябва да се събере малко информация:"
   ]
  },
  {
   "cell_type": "code",
   "execution_count": 34,
   "id": "7b619901",
   "metadata": {},
   "outputs": [
    {
     "name": "stdout",
     "output_type": "stream",
     "text": [
      "Help on module tools:\n",
      "\n",
      "NAME\n",
      "    tools - Created on Wed May 28 11:36:58 2025\n",
      "\n",
      "DESCRIPTION\n",
      "    @author: kamen\n",
      "\n",
      "FUNCTIONS\n",
      "    print_my_ip()\n",
      "        Prints self ip address.\n",
      "    \n",
      "    search_by_manufacturer(ports, mnfact)\n",
      "        Search dev/comport by manufacturer \n",
      "        Parameters:\n",
      "        ----------\n",
      "           [ports], \n",
      "            mnfact - manicacturer name witten on the USB dongle\n",
      "         Returns\n",
      "         -------\n",
      "         dev/name  or None\n",
      "    \n",
      "    serial_ports_list()\n",
      "        Prints list of available serial ports\n",
      "        and return list with them.\n",
      "        Returns\n",
      "        -------\n",
      "            ports : list of serial ports \n",
      "            ... ports[0].device\n",
      "            ... ports[0].manufacturer\n",
      "\n",
      "FILE\n",
      "    /home/kamen/MEGA/krystioMagAll/krystioMagPython/tools.py\n",
      "\n",
      "\n",
      "\n",
      "\n",
      "0.   None   /dev/ttyS0\n",
      "1.   Arduino (www.arduino.cc)   /dev/ttyACM0\n",
      "\n"
     ]
    }
   ],
   "source": [
    "import tools\n",
    "\n",
    "help(tools)\n",
    "prts = tools.serial_ports_list()"
   ]
  },
  {
   "cell_type": "code",
   "execution_count": 31,
   "id": "e879f373",
   "metadata": {},
   "outputs": [
    {
     "name": "stdout",
     "output_type": "stream",
     "text": [
      "/dev/ttyACM0\n"
     ]
    }
   ],
   "source": [
    "ard_device = prts[1].device\n",
    "print(ard_device)"
   ]
  },
  {
   "cell_type": "code",
   "execution_count": 32,
   "id": "29dd9945",
   "metadata": {},
   "outputs": [
    {
     "name": "stdout",
     "output_type": "stream",
     "text": [
      "Connected on {'port': '/dev/ttyACM0'} \n",
      "\n",
      "calibfromee\n",
      "calibtoee\n",
      "vref\n",
      "aref\n",
      "uv\n",
      "ur\n",
      "auv\n",
      "aur\n",
      "drng\n",
      "dmm\n",
      "mode\n",
      "hello\n",
      "tstval\n",
      "args\n",
      "echo\n",
      "\n",
      "Krastiomag\n"
     ]
    }
   ],
   "source": [
    "import krastioMag \n",
    "from pprint import pprint\n",
    "\n",
    "ard = krastioMag.krastioMag(port = prts[1].device)# baudrate =9600 \n",
    "\n",
    "pprint(ard)\n",
    "\n",
    "\n"
   ]
  },
  {
   "cell_type": "markdown",
   "id": "fdba884b",
   "metadata": {},
   "source": [
    "**C обекта ard се работи по абсолютно същият начин, както с клиента cnt:**"
   ]
  },
  {
   "cell_type": "code",
   "execution_count": null,
   "id": "15d9d3e2",
   "metadata": {},
   "outputs": [],
   "source": [
    "#\n",
    "pprint(ard.mode(3)) # след тази команда започва да мига 4 пъти\n",
    "pprint(ard.hello())\n",
    "\n",
    "#поради някакъв проблем .help() не върви\n",
    "#за да се видят командите на ардуиното\n",
    "pprint(ard.command(\"help\")) # Това са само командите нсталирани от ардуиното ..."
   ]
  },
  {
   "cell_type": "code",
   "execution_count": 26,
   "id": "d96b8082",
   "metadata": {},
   "outputs": [
    {
     "name": "stdout",
     "output_type": "stream",
     "text": [
      "Help on krastioMag in module krastioMag object:\n",
      "\n",
      "class krastioMag(pykiba.PykiDev)\n",
      " |  krastioMag(**kargs)\n",
      " |  \n",
      " |  Class krastioMag\n",
      " |  Extends PykiDev.\n",
      " |  KrastioMag firmware on the Arduino support 'help' cmd, therefore \n",
      " |  KrastioMag install all implemented commnads on Arduino in Python.\n",
      " |  Implemented reading of the analog channels trought polynoms.\n",
      " |  \n",
      " |  Method resolution order:\n",
      " |      krastioMag\n",
      " |      pykiba.PykiDev\n",
      " |      pykiba.Pykiba\n",
      " |      serial.serialposix.Serial\n",
      " |      serial.serialutil.SerialBase\n",
      " |      io.RawIOBase\n",
      " |      _io._RawIOBase\n",
      " |      io.IOBase\n",
      " |      _io._IOBase\n",
      " |      serial.serialposix.PlatformSpecific\n",
      " |      serial.serialposix.PlatformSpecificBase\n",
      " |      builtins.object\n",
      " |  \n",
      " |  Methods defined here:\n",
      " |  \n",
      " |  __del__(self)\n",
      " |  \n",
      " |  __init__(self, **kargs)\n",
      " |      Constructor \n",
      " |      Parameters\n",
      " |      ----------\n",
      " |          port : device name  e.q. string with /dev/... or comport\n",
      " |          baudrate : int, optional\n",
      " |          The default is 9600. \n",
      " |          install_cmd: If True install commands from help on Arduino.\n",
      " |          default is False\n",
      " |      Returns\n",
      " |      -------\n",
      " |      None.\n",
      " |  \n",
      " |  __repr__(self)\n",
      " |      String representation of the current port settings and its state.\n",
      " |  \n",
      " |  __str__(self)\n",
      " |      Return str(self).\n",
      " |  \n",
      " |  add_polynom(self, coef, polynom_name)\n",
      " |      Adds polynom coef. in self.poly_dict\n",
      " |      Parameters\n",
      " |      ----------\n",
      " |          polynom_name: key in poly_dict\n",
      " |          coef :  [an, ..., a2, a1, a0]  \n",
      " |      Returns\n",
      " |      -------\n",
      " |      Nothing\n",
      " |  \n",
      " |  aread(self, pin=None, calib=None, raw=False)\n",
      " |      Reads analog pins, could a calibration polynom be used\n",
      " |      Parameters\n",
      " |      ----------\n",
      " |          pin : 0 to self.channels_number\n",
      " |          calib : \"name of a defined polynoms\" in self.poly_dict \n",
      " |          install_cmd: If True install commands from help on Arduino.\n",
      " |          default is False\n",
      " |          raw: Which function to be used ur(raw) or uv\n",
      " |          default is False\n",
      " |      Returns\n",
      " |      -------\n",
      " |      [res] or res = polynom(self.ur() or self.uv)\n",
      " |  \n",
      " |  defines(self)\n",
      " |      Returns self.string_rep\n",
      " |      Parameters\n",
      " |      ----------\n",
      " |         file_name: the name of the file\n",
      " |      Returns\n",
      " |      -------\n",
      " |  \n",
      " |  polynom(self, arg, name_of_coef)\n",
      " |      y = polynom(x)\n",
      " |      Parameters\n",
      " |      ----------\n",
      " |          name_of_coef: key in poly_dict\n",
      " |          arg : ardument x\n",
      " |      Returns\n",
      " |      -------\n",
      " |      res = polynom(x)\n",
      " |  \n",
      " |  polynoms_from_file(self, file_name)\n",
      " |      Read self.poly_dict from a file\n",
      " |      Parameters\n",
      " |      ----------\n",
      " |         file_name: the name of the file\n",
      " |      Returns\n",
      " |      -------\n",
      " |          Nothing\n",
      " |  \n",
      " |  polynoms_list(self)\n",
      " |      Prints in a strig self.poly_dict\n",
      " |      Parameters\n",
      " |      ----------\n",
      " |          Nothing\n",
      " |      Returns\n",
      " |      -------\n",
      " |          A string with all poly_dict members\n",
      " |  \n",
      " |  polynoms_to_file(self, file_name)\n",
      " |      Saves self.poly_dict in a file\n",
      " |      Parameters\n",
      " |      ----------\n",
      " |         file_name: the name of the file\n",
      " |      Returns\n",
      " |      -------\n",
      " |          Nothing\n",
      " |  \n",
      " |  ----------------------------------------------------------------------\n",
      " |  Data and other attributes defined here:\n",
      " |  \n",
      " |  __abstractmethods__ = frozenset()\n",
      " |  \n",
      " |  ----------------------------------------------------------------------\n",
      " |  Methods inherited from pykiba.PykiDev:\n",
      " |  \n",
      " |  install_arduino_commands(self)\n",
      " |      If cmd support command \"help\":\n",
      " |      1. Read all commands with help. \n",
      " |      2. For all available commands defines a functions:\n",
      " |          CMD>>command arg0 arg1 ... -> obj.command(arg1, arg2 ...) \n",
      " |      *** bug *** The first defined command missing !!!\n",
      " |      Parameters:\n",
      " |      ----------\n",
      " |      None\n",
      " |      \n",
      " |      Returns:\n",
      " |      -------           \n",
      " |      None\n",
      " |  \n",
      " |  ----------------------------------------------------------------------\n",
      " |  Methods inherited from pykiba.Pykiba:\n",
      " |  \n",
      " |  command(self, *args, timeout=2.5)\n",
      " |      Sends a string with a command to arduino and receives \n",
      " |      it number responce. Parse int, floats from response\n",
      " |      Parameters\n",
      " |      ----------\n",
      " |      *args  : bytes, string, int,float, Optional\n",
      " |               A command to be send. The default is None.\n",
      " |          \n",
      " |      timeout: fload in seconds , optional\n",
      " |               Whow many time to wait for a line. The default is 0.1.\n",
      " |      Returns\n",
      " |      -------\n",
      " |      return_value : float,int or list floats,ints or list of lists floats. \n",
      " |      Every line is parsed in a list, all received lines are in \n",
      " |      larger.\n",
      " |  \n",
      " |  raw_lines(self, *args, timeout=5)\n",
      " |      Send a string to arduino, return a list with raw lines receved.\n",
      " |      Parameters\n",
      " |      ----------\n",
      " |      bytes__ : bytes, string, optional\n",
      " |                string to be send. The default is None.     \n",
      " |      timeout : float in seconds, optional\n",
      " |                how many time to wait for response. \n",
      " |                The default is 0.5.\n",
      " |      Returns\n",
      " |      -------\n",
      " |      bytes\n",
      " |          list with received lines in b'....'.\n",
      " |  \n",
      " |  write_line(self, *args)\n",
      " |      Send a string to arduino\n",
      " |      Parameters\n",
      " |      ----------\n",
      " |      buffer : string, bytearray, optional\n",
      " |               The default is None. Aditional a number can be added.\n",
      " |               Number will be translated to b'.....' and added to the\n",
      " |               string.       \n",
      " |      Returns\n",
      " |      -------\n",
      " |      None.\n",
      " |  \n",
      " |  ----------------------------------------------------------------------\n",
      " |  Methods inherited from serial.serialposix.Serial:\n",
      " |  \n",
      " |  cancel_read(self)\n",
      " |  \n",
      " |  cancel_write(self)\n",
      " |  \n",
      " |  close(self)\n",
      " |      Close port\n",
      " |  \n",
      " |  fileno(self)\n",
      " |      For easier use of the serial port instance with select.\n",
      " |      WARNING: this function is not portable to different platforms!\n",
      " |  \n",
      " |  flush(self)\n",
      " |      Flush of file like objects. In this case, wait until all data\n",
      " |      is written.\n",
      " |  \n",
      " |  nonblocking(self)\n",
      " |      DEPRECATED - has no use\n",
      " |  \n",
      " |  open(self)\n",
      " |      Open port with current settings. This may throw a SerialException\n",
      " |      if the port cannot be opened.\n",
      " |  \n",
      " |  read(self, size=1)\n",
      " |      Read size bytes from the serial port. If a timeout is set it may\n",
      " |      return less characters as requested. With no timeout it will block\n",
      " |      until the requested number of bytes is read.\n",
      " |  \n",
      " |  reset_input_buffer(self)\n",
      " |      Clear input buffer, discarding all that is in the buffer.\n",
      " |  \n",
      " |  reset_output_buffer(self)\n",
      " |      Clear output buffer, aborting the current output and discarding all\n",
      " |      that is in the buffer.\n",
      " |  \n",
      " |  send_break(self, duration=0.25)\n",
      " |      Send break condition. Timed, returns to idle state after given\n",
      " |      duration.\n",
      " |  \n",
      " |  set_input_flow_control(self, enable=True)\n",
      " |      Manually control flow - when software flow control is enabled.\n",
      " |      This will send XON (true) or XOFF (false) to the other device.\n",
      " |      WARNING: this function is not portable to different platforms!\n",
      " |  \n",
      " |  set_output_flow_control(self, enable=True)\n",
      " |      Manually control flow of outgoing data - when hardware or software flow\n",
      " |      control is enabled.\n",
      " |      WARNING: this function is not portable to different platforms!\n",
      " |  \n",
      " |  write(self, data)\n",
      " |      Output the given byte string over the serial port.\n",
      " |  \n",
      " |  ----------------------------------------------------------------------\n",
      " |  Readonly properties inherited from serial.serialposix.Serial:\n",
      " |  \n",
      " |  cd\n",
      " |      Read terminal status line: Carrier Detect\n",
      " |  \n",
      " |  cts\n",
      " |      Read terminal status line: Clear To Send\n",
      " |  \n",
      " |  dsr\n",
      " |      Read terminal status line: Data Set Ready\n",
      " |  \n",
      " |  in_waiting\n",
      " |      Return the number of bytes currently in the input buffer.\n",
      " |  \n",
      " |  out_waiting\n",
      " |      Return the number of bytes currently in the output buffer.\n",
      " |  \n",
      " |  ri\n",
      " |      Read terminal status line: Ring Indicator\n",
      " |  \n",
      " |  ----------------------------------------------------------------------\n",
      " |  Methods inherited from serial.serialutil.SerialBase:\n",
      " |  \n",
      " |  __enter__(self)\n",
      " |  \n",
      " |  __exit__(self, *args, **kwargs)\n",
      " |  \n",
      " |  applySettingsDict(self, d)\n",
      " |  \n",
      " |  apply_settings(self, d)\n",
      " |      Apply stored settings from a dictionary returned from\n",
      " |      get_settings(). It's allowed to delete keys from the dictionary. These\n",
      " |      values will simply left unchanged.\n",
      " |  \n",
      " |  flushInput(self)\n",
      " |  \n",
      " |  flushOutput(self)\n",
      " |  \n",
      " |  getCD(self)\n",
      " |  \n",
      " |  getCTS(self)\n",
      " |  \n",
      " |  getDSR(self)\n",
      " |  \n",
      " |  getRI(self)\n",
      " |  \n",
      " |  getSettingsDict(self)\n",
      " |  \n",
      " |  get_settings(self)\n",
      " |      Get current port settings as a dictionary. For use with\n",
      " |      apply_settings().\n",
      " |  \n",
      " |  inWaiting(self)\n",
      " |  \n",
      " |  iread_until(self, *args, **kwargs)\n",
      " |      Read lines, implemented as generator. It will raise StopIteration on\n",
      " |      timeout (empty read).\n",
      " |  \n",
      " |  isOpen(self)\n",
      " |  \n",
      " |  read_all(self)\n",
      " |      Read all bytes currently available in the buffer of the OS.\n",
      " |  \n",
      " |  read_until(self, expected=b'\\n', size=None)\n",
      " |      Read until an expected sequence is found ('\n",
      " |      ' by default), the size\n",
      " |              is exceeded or until timeout occurs.\n",
      " |  \n",
      " |  readable(self)\n",
      " |      Return whether object was opened for reading.\n",
      " |      \n",
      " |      If False, read() will raise OSError.\n",
      " |  \n",
      " |  readinto(self, b)\n",
      " |  \n",
      " |  seekable(self)\n",
      " |      Return whether object supports random access.\n",
      " |      \n",
      " |      If False, seek(), tell() and truncate() will raise OSError.\n",
      " |      This method may need to do a test seek().\n",
      " |  \n",
      " |  sendBreak(self, duration=0.25)\n",
      " |  \n",
      " |  setDTR(self, value=1)\n",
      " |  \n",
      " |  setPort(self, port)\n",
      " |  \n",
      " |  setRTS(self, value=1)\n",
      " |  \n",
      " |  writable(self)\n",
      " |      Return whether object was opened for writing.\n",
      " |      \n",
      " |      If False, write() will raise OSError.\n",
      " |  \n",
      " |  ----------------------------------------------------------------------\n",
      " |  Data descriptors inherited from serial.serialutil.SerialBase:\n",
      " |  \n",
      " |  baudrate\n",
      " |      Get the current baud rate setting.\n",
      " |  \n",
      " |  break_condition\n",
      " |  \n",
      " |  bytesize\n",
      " |      Get the current byte size setting.\n",
      " |  \n",
      " |  dsrdtr\n",
      " |      Get the current DSR/DTR flow control setting.\n",
      " |  \n",
      " |  dtr\n",
      " |  \n",
      " |  exclusive\n",
      " |      Get the current exclusive access setting.\n",
      " |  \n",
      " |  interCharTimeout\n",
      " |  \n",
      " |  inter_byte_timeout\n",
      " |      Get the current inter-character timeout setting.\n",
      " |  \n",
      " |  parity\n",
      " |      Get the current parity setting.\n",
      " |  \n",
      " |  port\n",
      " |      Get the current port setting. The value that was passed on init or using\n",
      " |      setPort() is passed back.\n",
      " |  \n",
      " |  rs485_mode\n",
      " |      Enable RS485 mode and apply new settings, set to None to disable.\n",
      " |      See serial.rs485.RS485Settings for more info about the value.\n",
      " |  \n",
      " |  rts\n",
      " |  \n",
      " |  rtscts\n",
      " |      Get the current RTS/CTS flow control setting.\n",
      " |  \n",
      " |  stopbits\n",
      " |      Get the current stop bits setting.\n",
      " |  \n",
      " |  timeout\n",
      " |      Get the current timeout setting.\n",
      " |  \n",
      " |  writeTimeout\n",
      " |  \n",
      " |  write_timeout\n",
      " |      Get the current timeout setting.\n",
      " |  \n",
      " |  xonxoff\n",
      " |      Get the current XON/XOFF setting.\n",
      " |  \n",
      " |  ----------------------------------------------------------------------\n",
      " |  Data and other attributes inherited from serial.serialutil.SerialBase:\n",
      " |  \n",
      " |  BAUDRATES = (50, 75, 110, 134, 150, 200, 300, 600, 1200, 1800, 2400, 4...\n",
      " |  \n",
      " |  BYTESIZES = (5, 6, 7, 8)\n",
      " |  \n",
      " |  PARITIES = ('N', 'E', 'O', 'M', 'S')\n",
      " |  \n",
      " |  STOPBITS = (1, 1.5, 2)\n",
      " |  \n",
      " |  ----------------------------------------------------------------------\n",
      " |  Methods inherited from _io._RawIOBase:\n",
      " |  \n",
      " |  readall(self, /)\n",
      " |      Read until EOF, using multiple read() call.\n",
      " |  \n",
      " |  ----------------------------------------------------------------------\n",
      " |  Methods inherited from _io._IOBase:\n",
      " |  \n",
      " |  __iter__(self, /)\n",
      " |      Implement iter(self).\n",
      " |  \n",
      " |  __next__(self, /)\n",
      " |      Implement next(self).\n",
      " |  \n",
      " |  isatty(self, /)\n",
      " |      Return whether this is an 'interactive' stream.\n",
      " |      \n",
      " |      Return False if it can't be determined.\n",
      " |  \n",
      " |  readline(self, size=-1, /)\n",
      " |      Read and return a line from the stream.\n",
      " |      \n",
      " |      If size is specified, at most size bytes will be read.\n",
      " |      \n",
      " |      The line terminator is always b'\\n' for binary files; for text\n",
      " |      files, the newlines argument to open can be used to select the line\n",
      " |      terminator(s) recognized.\n",
      " |  \n",
      " |  readlines(self, hint=-1, /)\n",
      " |      Return a list of lines from the stream.\n",
      " |      \n",
      " |      hint can be specified to control the number of lines read: no more\n",
      " |      lines will be read if the total size (in bytes/characters) of all\n",
      " |      lines so far exceeds hint.\n",
      " |  \n",
      " |  seek(...)\n",
      " |      Change stream position.\n",
      " |      \n",
      " |      Change the stream position to the given byte offset. The offset is\n",
      " |      interpreted relative to the position indicated by whence.  Values\n",
      " |      for whence are:\n",
      " |      \n",
      " |      * 0 -- start of stream (the default); offset should be zero or positive\n",
      " |      * 1 -- current stream position; offset may be negative\n",
      " |      * 2 -- end of stream; offset is usually negative\n",
      " |      \n",
      " |      Return the new absolute position.\n",
      " |  \n",
      " |  tell(self, /)\n",
      " |      Return current stream position.\n",
      " |  \n",
      " |  truncate(...)\n",
      " |      Truncate file to size bytes.\n",
      " |      \n",
      " |      File pointer is left unchanged.  Size defaults to the current IO\n",
      " |      position as reported by tell().  Returns the new size.\n",
      " |  \n",
      " |  writelines(self, lines, /)\n",
      " |      Write a list of lines to stream.\n",
      " |      \n",
      " |      Line separators are not added, so it is usual for each of the\n",
      " |      lines provided to have a line separator at the end.\n",
      " |  \n",
      " |  ----------------------------------------------------------------------\n",
      " |  Static methods inherited from _io._IOBase:\n",
      " |  \n",
      " |  __new__(*args, **kwargs) from builtins.type\n",
      " |      Create and return a new object.  See help(type) for accurate signature.\n",
      " |  \n",
      " |  ----------------------------------------------------------------------\n",
      " |  Data descriptors inherited from _io._IOBase:\n",
      " |  \n",
      " |  __dict__\n",
      " |  \n",
      " |  closed\n",
      " |  \n",
      " |  ----------------------------------------------------------------------\n",
      " |  Methods inherited from serial.serialposix.PlatformSpecific:\n",
      " |  \n",
      " |  set_low_latency_mode(self, low_latency_settings)\n",
      " |  \n",
      " |  ----------------------------------------------------------------------\n",
      " |  Data and other attributes inherited from serial.serialposix.PlatformSpecific:\n",
      " |  \n",
      " |  BAUDRATE_CONSTANTS = {0: 0, 50: 1, 75: 2, 110: 3, 134: 4, 150: 5, 200:...\n",
      " |  \n",
      " |  ----------------------------------------------------------------------\n",
      " |  Data descriptors inherited from serial.serialposix.PlatformSpecificBase:\n",
      " |  \n",
      " |  __weakref__\n",
      " |      list of weak references to the object (if defined)\n",
      "\n"
     ]
    }
   ],
   "source": [
    "help(ard) # дава хелп на функциите, които идват от класа krastioMag но без инсталирани команди"
   ]
  },
  {
   "cell_type": "markdown",
   "id": "320e582b",
   "metadata": {},
   "source": [
    "## Командите са организирани по следният начин 1. команда без параметър връща стойноостта\n",
    "на някаква променлива 2. команда за сетване на параметър въща винаги стойността с\n",
    "която е сетнат 3. ако става дума за много неща команда без параметър връща всички\n",
    "неща, а с параметър нещото, което отговаря на този номер На Ардуиното са програмирани\n",
    "следните команди:"
   ]
  },
  {
   "cell_type": "code",
   "execution_count": 35,
   "id": "41ed76c1",
   "metadata": {},
   "outputs": [
    {
     "data": {
      "text/plain": [
       "1"
      ]
     },
     "execution_count": 35,
     "metadata": {},
     "output_type": "execute_result"
    }
   ],
   "source": [
    "ard.echo() # 0, спира ехото от ардуиното 1 го пуска - използва се ако има много устройстава на един сеииен порт, не е случая"
   ]
  },
  {
   "cell_type": "code",
   "execution_count": 36,
   "id": "2cbdacdb",
   "metadata": {},
   "outputs": [
    {
     "data": {
      "text/plain": [
       "[4, 'args', 1, 2, 3]"
      ]
     },
     "execution_count": 36,
     "metadata": {},
     "output_type": "execute_result"
    }
   ],
   "source": [
    "ard.args(1,2,3) # primerna komanda, илюстрира как във фирмуера се използва сигнатурата (int args_cnt, char **args )  "
   ]
  },
  {
   "cell_type": "code",
   "execution_count": 38,
   "id": "f9aa9c75",
   "metadata": {},
   "outputs": [
    {
     "name": "stdout",
     "output_type": "stream",
     "text": [
      "12.3\n"
     ]
    }
   ],
   "source": [
    "print(ard.tstval(123,-1)) # показва как се въвеждат дробни числа, ако фърмуера позволява"
   ]
  },
  {
   "cell_type": "code",
   "execution_count": 39,
   "id": "9bc61aa2",
   "metadata": {},
   "outputs": [
    {
     "data": {
      "text/plain": [
       "['Krastiomag', 'atmega2560']"
      ]
     },
     "execution_count": 39,
     "metadata": {},
     "output_type": "execute_result"
    }
   ],
   "source": [
    "ard.hello() #връща име на проекта и процесор на платката"
   ]
  },
  {
   "cell_type": "code",
   "execution_count": 40,
   "id": "74c0fafb",
   "metadata": {},
   "outputs": [
    {
     "data": {
      "text/plain": [
       "0"
      ]
     },
     "execution_count": 40,
     "metadata": {},
     "output_type": "execute_result"
    }
   ],
   "source": [
    "ard.mode(0)   # режим на светене на диода mode +1, mode = 0 - диода мига веднъж"
   ]
  },
  {
   "cell_type": "code",
   "execution_count": 42,
   "id": "08634023",
   "metadata": {},
   "outputs": [
    {
     "data": {
      "text/plain": [
       "2"
      ]
     },
     "execution_count": 42,
     "metadata": {},
     "output_type": "execute_result"
    }
   ],
   "source": [
    "ard.mode(2)  # led blinks 3 times"
   ]
  },
  {
   "cell_type": "code",
   "execution_count": 43,
   "id": "4b999c50",
   "metadata": {},
   "outputs": [
    {
     "data": {
      "text/plain": [
       "2"
      ]
     },
     "execution_count": 43,
     "metadata": {},
     "output_type": "execute_result"
    }
   ],
   "source": [
    "ard.mode()  # връща стойността на моде"
   ]
  },
  {
   "cell_type": "code",
   "execution_count": 6,
   "id": "762e7ea8",
   "metadata": {},
   "outputs": [
    {
     "name": "stdout",
     "output_type": "stream",
     "text": [
      "['calibfromee', 'calibtoee', 'vref', 'aref', 'uv', 'ur', 'auv', 'aur', 'drng', 'dmm', 'mode', 'hello', 'tstval', 'args', 'echo']\n"
     ]
    }
   ],
   "source": [
    "print(ard.command(\"help\"))"
   ]
  },
  {
   "cell_type": "code",
   "execution_count": 10,
   "id": "b0142a9f",
   "metadata": {},
   "outputs": [
    {
     "data": {
      "text/plain": [
       "255"
      ]
     },
     "execution_count": 10,
     "metadata": {},
     "output_type": "execute_result"
    }
   ],
   "source": [
    "ard.dmm(0)                         #Чете дистанция в мм от първият сензор свързн към платкат\n",
    "                             "
   ]
  },
  {
   "cell_type": "code",
   "execution_count": 18,
   "id": "5fbe3be2",
   "metadata": {},
   "outputs": [
    {
     "data": {
      "text/plain": [
       "255"
      ]
     },
     "execution_count": 18,
     "metadata": {},
     "output_type": "execute_result"
    }
   ],
   "source": [
    " ard.dmm(1)  #Чете втория  сензор"
   ]
  },
  {
   "cell_type": "code",
   "execution_count": 20,
   "id": "eb3ced6a-b050-484c-ae09-70b6eceae6ab",
   "metadata": {},
   "outputs": [
    {
     "name": "stdout",
     "output_type": "stream",
     "text": [
      "1\n"
     ]
    }
   ],
   "source": [
    "print(ard.drng())   # проверява рейнджа на сензорите за дистанция. \n",
    "# ДА НЕ СЕ ИЗПОЗВА !!! определя и чете рейнджа на последният прочетен сензор с горната команда"
   ]
  },
  {
   "cell_type": "code",
   "execution_count": 24,
   "id": "8aa79f59-f77f-44fd-983d-8f7f9de9a98b",
   "metadata": {},
   "outputs": [
    {
     "data": {
      "text/plain": [
       "[2, 589]"
      ]
     },
     "execution_count": 24,
     "metadata": {},
     "output_type": "execute_result"
    }
   ],
   "source": [
    "ard.ur(1)  #чете в битове от 0  1023 аналогов вход 1, връща същотот кое вътрешно опорно напрежение е изпозвано"
   ]
  },
  {
   "cell_type": "code",
   "execution_count": 26,
   "id": "7b036746-492e-439a-9749-4334f5eff797",
   "metadata": {},
   "outputs": [
    {
     "data": {
      "text/plain": [
       "[[2, 595], [2, 590], [2, 582], [1, 926]]"
      ]
     },
     "execution_count": 26,
     "metadata": {},
     "output_type": "execute_result"
    }
   ],
   "source": [
    "ard.ur()    #горното за всички канали едновеменно  "
   ]
  },
  {
   "cell_type": "code",
   "execution_count": null,
   "id": "21a079cf-a149-4b29-b09c-1ca19972f94c",
   "metadata": {},
   "outputs": [],
   "source": [
    "ard.uv(1)  #чете в mV входен канал 1"
   ]
  },
  {
   "cell_type": "code",
   "execution_count": 27,
   "id": "59bc5928-bc1b-4cec-bf1b-697e1d2446e2",
   "metadata": {},
   "outputs": [
    {
     "data": {
      "text/plain": [
       "[1461, 1449, 1429, 1015]"
      ]
     },
     "execution_count": 27,
     "metadata": {},
     "output_type": "execute_result"
    }
   ],
   "source": [
    "ard.uv()  #горното за всички канали едновеменно  "
   ]
  },
  {
   "cell_type": "code",
   "execution_count": 28,
   "id": "a4b2d858-1779-45f0-9bb4-68204d1b6d9e",
   "metadata": {},
   "outputs": [
    {
     "data": {
      "text/plain": [
       "[2, 2, 2, 1]"
      ]
     },
     "execution_count": 28,
     "metadata": {},
     "output_type": "execute_result"
    }
   ],
   "source": [
    "ard.aref()  # показва кой аналогов канал към кой номе референс е свързан  "
   ]
  },
  {
   "cell_type": "code",
   "execution_count": 30,
   "id": "dd06d57a-f5e6-4ee7-80d5-2a80efe466d6",
   "metadata": {},
   "outputs": [
    {
     "data": {
      "text/plain": [
       "2"
      ]
     },
     "execution_count": 30,
     "metadata": {},
     "output_type": "execute_result"
    }
   ],
   "source": [
    "ard.aref(3, 2) # сетва 3 канал на референс 2"
   ]
  },
  {
   "cell_type": "code",
   "execution_count": 40,
   "id": "9d323c1e-8cf3-4e24-a52b-aa1ce046bae6",
   "metadata": {},
   "outputs": [
    {
     "data": {
      "text/plain": [
       "[4690, 1100, 2513]"
      ]
     },
     "execution_count": 40,
     "metadata": {},
     "output_type": "execute_result"
    }
   ],
   "source": [
    "ard.vref()        #показва стойността на референсите в mV, 0 номер е 4690мВ, 1 е 1121 мВ и 2 е 2513  ..."
   ]
  },
  {
   "cell_type": "code",
   "execution_count": 32,
   "id": "16dfb60e-5ad8-4e91-9634-30ba7aeb64f0",
   "metadata": {},
   "outputs": [
    {
     "data": {
      "text/plain": [
       "2500"
      ]
     },
     "execution_count": 32,
     "metadata": {},
     "output_type": "execute_result"
    }
   ],
   "source": [
    "#може да зададем стойност към която да се пресмята напрежението:\n",
    "ard.vref(2, 2500) # това ще остане валидно до рестарт на процесора. \n",
    "# Сед това ще се върне старото състояние\n"
   ]
  },
  {
   "cell_type": "code",
   "execution_count": null,
   "id": "77300fc1-e2d6-4411-81e0-9dcf9099bd2f",
   "metadata": {},
   "outputs": [],
   "source": [
    "ard.calibtoee() # записва моментното състояние на vref във постоянната памет на Ардуиното"
   ]
  },
  {
   "cell_type": "code",
   "execution_count": null,
   "id": "d667ae57-5c6b-4b14-9a01-8ed4fe6bca1b",
   "metadata": {},
   "outputs": [],
   "source": [
    "ard.calibfromee()# възтановява стойностите на vref от постоянната памет на процесора. Няма проверки. Да се използва с внимание!!!"
   ]
  },
  {
   "cell_type": "code",
   "execution_count": 33,
   "id": "f44d4774-22ba-4cea-9b5a-4ca4db65553c",
   "metadata": {},
   "outputs": [
    {
     "data": {
      "text/plain": [
       "[[2, 914], [2, 1004], [2, 562], [2, 986]]"
      ]
     },
     "execution_count": 33,
     "metadata": {},
     "output_type": "execute_result"
    }
   ],
   "source": [
    "ard.aur() # Чете стойността на аналоговия канал в битове, като автоматично си настройва референса. Да се внимава!!!"
   ]
  },
  {
   "cell_type": "code",
   "execution_count": 34,
   "id": "2256db79-e323-4228-867a-537322a25af5",
   "metadata": {},
   "outputs": [
    {
     "data": {
      "text/plain": [
       "[1400, 1064, 1449, 1089]"
      ]
     },
     "execution_count": 34,
     "metadata": {},
     "output_type": "execute_result"
    }
   ],
   "source": [
    "ard.auv() # Като горното, но чете стойността във миливолти. Да се внимава!!!"
   ]
  },
  {
   "cell_type": "code",
   "execution_count": null,
   "id": "577bb12a-b4af-4edb-8a40-f2736db3a5da",
   "metadata": {},
   "outputs": [],
   "source": []
  },
  {
   "cell_type": "markdown",
   "id": "8e26e94d-9455-45c1-81e7-d3f41b07c3cf",
   "metadata": {},
   "source": [
    "## Команди написани на по-високо ниво, вече на сървъра"
   ]
  },
  {
   "cell_type": "code",
   "execution_count": null,
   "id": "590c9c4f-d658-45d7-a379-981a99b86d0c",
   "metadata": {},
   "outputs": [],
   "source": [
    "#all_references() Сетва всички референси на каналите !! Да се допише"
   ]
  },
  {
   "cell_type": "code",
   "execution_count": null,
   "id": "731bf713",
   "metadata": {},
   "outputs": [],
   "source": []
  },
  {
   "cell_type": "markdown",
   "id": "a0e67d3e",
   "metadata": {},
   "source": [
    "## Най-главното"
   ]
  },
  {
   "cell_type": "code",
   "execution_count": 2,
   "id": "b237a8b8",
   "metadata": {},
   "outputs": [
    {
     "data": {
      "text/plain": [
       "1572"
      ]
     },
     "execution_count": 2,
     "metadata": {},
     "output_type": "execute_result"
    }
   ],
   "source": [
    "ard.aread(0)              # стойност в миливолти на канал 0"
   ]
  },
  {
   "cell_type": "code",
   "execution_count": 3,
   "id": "8cd03dc0",
   "metadata": {},
   "outputs": [
    {
     "data": {
      "text/plain": [
       "1100"
      ]
     },
     "execution_count": 3,
     "metadata": {},
     "output_type": "execute_result"
    }
   ],
   "source": [
    "ard.aread(1)              # стойност в миливолти на канал 1 ..."
   ]
  },
  {
   "cell_type": "code",
   "execution_count": 4,
   "id": "022d137f-5930-4b96-838f-5309a645fd5b",
   "metadata": {},
   "outputs": [
    {
     "data": {
      "text/plain": [
       "1.1"
      ]
     },
     "execution_count": 4,
     "metadata": {},
     "output_type": "execute_result"
    }
   ],
   "source": [
    "ard.aread(1, 'volts')      # стойност във волти на канал 1 ...\n",
    "# прочита се стойността на канал 1 и се преизчислява през полином 'volts'"
   ]
  },
  {
   "cell_type": "code",
   "execution_count": 5,
   "id": "04b18b85-81da-4b6f-86fb-1d9ac4d1e5e7",
   "metadata": {},
   "outputs": [
    {
     "data": {
      "text/plain": [
       "'equ:[1, 0] , volts:[0.001, 0] , zerro:[0] , ampers:[-0.009788782891869855, 24.159543475504957] , '"
      ]
     },
     "execution_count": 5,
     "metadata": {},
     "output_type": "execute_result"
    }
   ],
   "source": [
    "ard.polynoms_list()        # покзва какви полиноми има въведени в момента. "
   ]
  },
  {
   "cell_type": "code",
   "execution_count": 6,
   "id": "7f6d9257-c4a9-44d5-a3b0-8e45518463cf",
   "metadata": {},
   "outputs": [],
   "source": [
    "filename = 'polynoms.json'\n",
    "ard.polynoms_from_file(filename)"
   ]
  },
  {
   "cell_type": "code",
   "execution_count": 7,
   "id": "e1bca369-846c-436a-b421-c52431005049",
   "metadata": {},
   "outputs": [
    {
     "data": {
      "text/plain": [
       "'equ:[1, 0] , volts:[0.001, 0] , zerro:[0] , ampers:[-0.009788782891869855, 24.159543475504957] , '"
      ]
     },
     "execution_count": 7,
     "metadata": {},
     "output_type": "execute_result"
    }
   ],
   "source": [
    "ard.polynoms_list() "
   ]
  },
  {
   "cell_type": "code",
   "execution_count": 53,
   "id": "0fa14fce-137b-4b54-abc1-bc20b112bf0a",
   "metadata": {},
   "outputs": [
    {
     "data": {
      "text/plain": [
       "13.391882294448116"
      ]
     },
     "execution_count": 53,
     "metadata": {},
     "output_type": "execute_result"
    }
   ],
   "source": [
    "#тогава ако вържен на канал 1 сензора за ток можем да използваме:\n",
    "\n",
    "ard.aread(1, 'ampers') #kato използваме полинома, който превръща напрежението на изхода на сензора, в ампери."
   ]
  },
  {
   "cell_type": "code",
   "execution_count": null,
   "id": "1a4c592e-f967-43bf-9c12-946d0f593574",
   "metadata": {},
   "outputs": [],
   "source": []
  },
  {
   "cell_type": "markdown",
   "id": "13efa170",
   "metadata": {},
   "source": [
    "## Малко общи приказки, трябва да се научат някога. Става дума за следните калибровки:\n",
    "\n",
    "1.Напрежения на ADC-to На Arduinoto В ардуиното се пресмята напрежението в миливолти, от битовете и опорните напрежения на ADC-to. Към ADC-to могат да се вкючат три референса:\n",
    "0,1,2 , който имат опорни напрежения, съответно, околу 5V, 1.1V и 2.5V. Системата\n",
    "позволява всеки канал да се мери към различен реферес, но не се препоръчва. Нампреженията\n",
    "на референсите, могат да се въвведат от външната система, да се запишат в постоянната\n",
    "памет на прожесора \n",
    "\n",
    "2.Калибровачни полиноми в паметта на сървъра След като сървъра\n",
    "получи резултат от ардуиното, може, ако е въведено име на полином, да върне на заявителя,\n",
    "напрежението от ардуиното в миливолти, пресметнато през каличбовачният полином...\n",
    "Полиноми могат да се въведат от клиента на сървъра, и да се запишат във файл в директорията\n",
    "на скрипта на сървъра."
   ]
  },
  {
   "cell_type": "markdown",
   "id": "be0847a0",
   "metadata": {},
   "source": [
    "## Работа с опорните напрежения"
   ]
  },
  {
   "cell_type": "code",
   "execution_count": 8,
   "id": "ca1802cc",
   "metadata": {},
   "outputs": [
    {
     "data": {
      "text/plain": [
       "[2, 1, 2, 1]"
      ]
     },
     "execution_count": 8,
     "metadata": {},
     "output_type": "execute_result"
    }
   ],
   "source": [
    "cnt.aref()                # Връща в момента спрямо какъв референ се мерят 4 канали\n",
    "# 0 означава около 5V, 1 е референс 1.1V и 2 е 2.5V\n",
    "# Винаги в началото 0"
   ]
  },
  {
   "cell_type": "code",
   "execution_count": 10,
   "id": "129659ac-5683-4467-8968-19ce9b48ea61",
   "metadata": {},
   "outputs": [
    {
     "data": {
      "text/plain": [
       "2"
      ]
     },
     "execution_count": 10,
     "metadata": {},
     "output_type": "execute_result"
    }
   ],
   "source": [
    "cnt.aref(3,2)"
   ]
  },
  {
   "cell_type": "code",
   "execution_count": 12,
   "id": "58873991",
   "metadata": {},
   "outputs": [
    {
     "data": {
      "text/plain": [
       "[2, 2, 2, 2]"
      ]
     },
     "execution_count": 12,
     "metadata": {},
     "output_type": "execute_result"
    }
   ],
   "source": [
    "ard.all_references(1)     #Определя се референс 1, което е околу 1.1V, за всички канали"
   ]
  },
  {
   "cell_type": "code",
   "execution_count": 21,
   "id": "caf16ed1",
   "metadata": {},
   "outputs": [
    {
     "data": {
      "text/plain": [
       "2"
      ]
     },
     "execution_count": 21,
     "metadata": {},
     "output_type": "execute_result"
    }
   ],
   "source": [
    "cnt.vref(2,2)            # Сетва се канал 2 да е с референсе 2, което е околу 2.5V"
   ]
  },
  {
   "cell_type": "code",
   "execution_count": 23,
   "id": "fd411ddc",
   "metadata": {},
   "outputs": [
    {
     "data": {
      "text/plain": [
       "0"
      ]
     },
     "execution_count": 23,
     "metadata": {},
     "output_type": "execute_result"
    }
   ],
   "source": [
    "cnt.all_references(0)    # Пак всичко е 5 волта"
   ]
  },
  {
   "cell_type": "code",
   "execution_count": 12,
   "id": "4603ccd5",
   "metadata": {},
   "outputs": [
    {
     "data": {
      "text/plain": [
       "[0, 0, 0, 0]"
      ]
     },
     "execution_count": 12,
     "metadata": {},
     "output_type": "execute_result"
    }
   ],
   "source": [
    "cnt.аref()               # За да гледаме горното ..."
   ]
  },
  {
   "cell_type": "code",
   "execution_count": 18,
   "id": "0c4975f0",
   "metadata": {},
   "outputs": [
    {
     "data": {
      "text/plain": [
       "4692"
      ]
     },
     "execution_count": 18,
     "metadata": {},
     "output_type": "execute_result"
    }
   ],
   "source": [
    "cnt.vref(0,4692 )        #Setni na 0 референс(напрежение захрнването) на 4691 миливолта"
   ]
  },
  {
   "cell_type": "code",
   "execution_count": 19,
   "id": "33efe2e4",
   "metadata": {},
   "outputs": [],
   "source": [
    "cnt.calibtoee()          #Записва стойностите на калибровката на референсите в постоянната памен на процесор "
   ]
  },
  {
   "cell_type": "code",
   "execution_count": 9,
   "id": "25b629d7",
   "metadata": {},
   "outputs": [],
   "source": [
    "cnt.calibfromee()        #Възтановяна калибровката от постоянната памет на процесора"
   ]
  },
  {
   "cell_type": "code",
   "execution_count": 10,
   "id": "a91c4160",
   "metadata": {},
   "outputs": [
    {
     "data": {
      "text/plain": [
       "[4690, 1121, 2513]"
      ]
     },
     "execution_count": 10,
     "metadata": {},
     "output_type": "execute_result"
    }
   ],
   "source": [
    "cnt.setvref()            #Проверка"
   ]
  },
  {
   "cell_type": "code",
   "execution_count": 37,
   "id": "7ca2232b",
   "metadata": {},
   "outputs": [
    {
     "data": {
      "text/plain": [
       "2513"
      ]
     },
     "execution_count": 37,
     "metadata": {},
     "output_type": "execute_result"
    }
   ],
   "source": [
    "cnt.vref(2, 2513) "
   ]
  },
  {
   "cell_type": "code",
   "execution_count": 48,
   "id": "43916fe9",
   "metadata": {},
   "outputs": [
    {
     "data": {
      "text/plain": [
       "'equ:[1, 0] , volts:[0.001, 0] , '"
      ]
     },
     "execution_count": 48,
     "metadata": {},
     "output_type": "execute_result"
    }
   ],
   "source": [
    "cnt.polynoms_list()               # наличните полъноми в момента:\n",
    "# [коефицент пред най-високата степен, ... ,до коефицент пред нулева степен.]"
   ]
  },
  {
   "cell_type": "markdown",
   "id": "5cc6c69e",
   "metadata": {},
   "source": [
    "## Работа с полиноми"
   ]
  },
  {
   "cell_type": "code",
   "execution_count": 53,
   "id": "8f0d16f3",
   "metadata": {},
   "outputs": [
    {
     "data": {
      "text/plain": [
       "1.055"
      ]
     },
     "execution_count": 53,
     "metadata": {},
     "output_type": "execute_result"
    }
   ],
   "source": [
    "cnt.read(0,'volts') "
   ]
  },
  {
   "cell_type": "code",
   "execution_count": 49,
   "id": "edc1b8e1",
   "metadata": {},
   "outputs": [],
   "source": [
    "\n",
    "cnt.add_polynom(\"zerro\", [0])  #set a new polynom \n",
    "#cnt.polynoms_to_file() # The filename is defined in the server\n",
    "#cnt.polynoms_to_file()"
   ]
  },
  {
   "cell_type": "code",
   "execution_count": 54,
   "id": "689b3333",
   "metadata": {},
   "outputs": [
    {
     "data": {
      "text/plain": [
       "0"
      ]
     },
     "execution_count": 54,
     "metadata": {},
     "output_type": "execute_result"
    }
   ],
   "source": [
    "#обаче\n",
    "cnt.read(0,'zerro') "
   ]
  },
  {
   "cell_type": "code",
   "execution_count": null,
   "id": "ada87da1",
   "metadata": {},
   "outputs": [],
   "source": []
  },
  {
   "cell_type": "markdown",
   "id": "35770c94",
   "metadata": {},
   "source": [
    "## Kak се калибрират опорните напрежения ..."
   ]
  },
  {
   "cell_type": "code",
   "execution_count": 98,
   "id": "447c76ec",
   "metadata": {},
   "outputs": [],
   "source": [
    "from time import sleep\n",
    "from statistics import mean \n",
    "ext_voltmeter = []\n",
    "raw_ref_0 = [] \n",
    "raw_ref_1 = []\n",
    "raw_ref_2 = []\n",
    "\n",
    "def long_mesurment():\n",
    "    sleep(1)\n",
    "    tmp = []\n",
    "    for i in range(10):\n",
    "        tmp.append(cnt.ur(0)[1])\n",
    "        sleep(1)\n",
    "        \n",
    "    return(mean(tmp))\n",
    "\n",
    "    "
   ]
  },
  {
   "cell_type": "code",
   "execution_count": 124,
   "id": "411acf9c",
   "metadata": {},
   "outputs": [],
   "source": [
    "ext_voltmeter.append(3320)\n",
    "cnt.vref(0)\n",
    "raw_ref_0.append(long_mesurment())\n",
    "#cnt.vref(1)\n",
    "#raw_ref_1.append(long_mesurment())\n",
    "#cnt.vref(2)\n",
    "#raw_ref_2.append(long_mesurment())"
   ]
  },
  {
   "cell_type": "code",
   "execution_count": 125,
   "id": "8cf88feb",
   "metadata": {},
   "outputs": [
    {
     "name": "stdout",
     "output_type": "stream",
     "text": [
      "[0, 73, 264, 597, 1031, 1492, 1958, 2180, 2390, 2450, 2860, 3040, 3300, 3320]\n",
      "[0, 12, 52, 122, 212.5, 309.1, 406.6, 455, 497.6, 510.7, 596.3, 633.8, 690.8, 694]\n"
     ]
    }
   ],
   "source": [
    "print(ext_voltmeter)\n",
    "print(raw_ref_0)\n",
    "#print(raw_ref_1)\n",
    "#print(raw_ref_2)"
   ]
  },
  {
   "cell_type": "code",
   "execution_count": 1,
   "id": "3bc0d8b8",
   "metadata": {},
   "outputs": [],
   "source": [
    "#obhwat 1\n",
    "uvx1 = [0, 73, 264, 597, 1031]\n",
    "adcu1 = [0, 62.9, 243.8, 560, 970.7]\n",
    "\n",
    "#obhwat2\n",
    "uvx2 = [0, 73, 264, 597, 1031, 1492, 1958, 2180, 2390, 2450]\n",
    "adcu2 =[0, 25, 102, 236.2, 410.5, 595.8, 783.2, 875.8, 957.1, 981.9]\n",
    "\n",
    "#obhvat0\n",
    "uvx0 = [0, 73, 264, 597, 1031, 1492, 1958, 2180, 2390, 2450, 2860, 3040, 3300, 3320]\n",
    "adcu0=[0, 12, 52, 122, 212.5, 309.1, 406.6, 455, 497.6, 510.7, 596.3, 633.8, 690.8, 694]"
   ]
  },
  {
   "cell_type": "code",
   "execution_count": 2,
   "id": "f24b0828",
   "metadata": {},
   "outputs": [],
   "source": [
    "import numpy as np"
   ]
  },
  {
   "cell_type": "code",
   "execution_count": 3,
   "id": "9996a015",
   "metadata": {},
   "outputs": [
    {
     "name": "stdout",
     "output_type": "stream",
     "text": [
      "4879.444899464198\n",
      "1083.2364761110668\n",
      "2544.533574573781\n"
     ]
    }
   ],
   "source": [
    "a = np.array(adcu0)\n",
    "b = np.array(uvx0)\n",
    "\n",
    "coef = np.polyfit(a, b,1)\n",
    "vref0 = list(coef)[0]*1023\n",
    "\n",
    "a = np.array(adcu1)\n",
    "b = np.array(uvx1)\n",
    "\n",
    "coef = np.polyfit(a, b,1)\n",
    "vref1 = list(coef)[0]*1023\n",
    "\n",
    "a = np.array(adcu2)\n",
    "b = np.array(uvx2)\n",
    "\n",
    "coef = np.polyfit(a, b,1)\n",
    "vref2 = list(coef)[0]*1023\n",
    "\n",
    "print(vref0)\n",
    "print(vref1)\n",
    "print(vref2)"
   ]
  },
  {
   "cell_type": "code",
   "execution_count": 11,
   "id": "f70b16e4",
   "metadata": {},
   "outputs": [],
   "source": [
    "vref0 = 4879\n",
    "vref1 = 1083\n",
    "vref2 = 2544"
   ]
  },
  {
   "cell_type": "code",
   "execution_count": 12,
   "id": "b00297ab",
   "metadata": {},
   "outputs": [
    {
     "data": {
      "text/plain": [
       "2544"
      ]
     },
     "execution_count": 12,
     "metadata": {},
     "output_type": "execute_result"
    }
   ],
   "source": [
    "cnt.vref(0, vref0)\n",
    "cnt.vref(1, vref1)\n",
    "cnt.vref(2, vref2)"
   ]
  },
  {
   "cell_type": "code",
   "execution_count": 13,
   "id": "885b486d",
   "metadata": {},
   "outputs": [
    {
     "data": {
      "text/plain": [
       "[4879, 1083, 2544]"
      ]
     },
     "execution_count": 13,
     "metadata": {},
     "output_type": "execute_result"
    }
   ],
   "source": [
    "cnt.vref()"
   ]
  },
  {
   "cell_type": "code",
   "execution_count": 14,
   "id": "5cd145b1",
   "metadata": {},
   "outputs": [],
   "source": [
    "cnt.calibtoee()"
   ]
  },
  {
   "cell_type": "markdown",
   "id": "91d73fb0",
   "metadata": {},
   "source": [
    "## Пример Как става калибровката за токовият сензор ..."
   ]
  },
  {
   "cell_type": "code",
   "execution_count": null,
   "id": "dc151dfa",
   "metadata": {},
   "outputs": [],
   "source": []
  },
  {
   "cell_type": "code",
   "execution_count": 1,
   "id": "308dba91",
   "metadata": {},
   "outputs": [],
   "source": [
    "#%matplotlib notebook\n",
    "%matplotlib inline\n",
    "import matplotlib.pyplot as plt\n",
    "import numpy as np\n",
    "\n"
   ]
  },
  {
   "cell_type": "code",
   "execution_count": 2,
   "id": "d1a2e7b2",
   "metadata": {},
   "outputs": [],
   "source": [
    "ampers = np.array([0, 0.5, 1, 1.5, 2, 2.5, 2.97])          #измерени данни от младежа и мен      \n",
    "ardmilivolts = np.array([2468, 2417, 2365, 2316, 2264, 2213, 2164 ])"
   ]
  },
  {
   "cell_type": "code",
   "execution_count": 3,
   "id": "ec941a48",
   "metadata": {},
   "outputs": [],
   "source": [
    "polynom_coeficents = np.polyfit(ardmilivolts ,ampers, 1)\n",
    "fitpolynom = np.poly1d( polynom_coeficents)\n",
    "x = np.linspace(2200,2450, 10)\n",
    "y = fitpolynom(x)"
   ]
  },
  {
   "cell_type": "code",
   "execution_count": 4,
   "id": "8037dcf1",
   "metadata": {},
   "outputs": [
    {
     "data": {
      "image/png": "[encoded data removed]",
      "text/plain": [
       "<Figure size 640x480 with 1 Axes>"
      ]
     },
     "metadata": {},
     "output_type": "display_data"
    }
   ],
   "source": [
    "fig2, ax2 = plt.subplots()\n",
    "ax2.plot(ardmilivolts, ampers, 'r*')\n",
    "ax2.plot(x, y, '--b')\n",
    "ax2.set_title(\"Current sensor calibration\" )\n",
    "ax2.set_xlabel(\"ardmilivolts \")\n",
    "ax2.set_ylabel(\"ampers\")\n",
    "plt.show()"
   ]
  },
  {
   "cell_type": "code",
   "execution_count": 5,
   "id": "ab00c47f",
   "metadata": {},
   "outputs": [
    {
     "name": "stdout",
     "output_type": "stream",
     "text": [
      "[np.float64(-0.009788782891869855), np.float64(24.159543475504957)]\n"
     ]
    },
    {
     "ename": "NameError",
     "evalue": "name 'cnt' is not defined",
     "output_type": "error",
     "traceback": [
      "\u001b[0;31m---------------------------------------------------------------------------\u001b[0m",
      "\u001b[0;31mNameError\u001b[0m                                 Traceback (most recent call last)",
      "Cell \u001b[0;32mIn[5], line 2\u001b[0m\n\u001b[1;32m      1\u001b[0m \u001b[38;5;28mprint\u001b[39m(\u001b[38;5;28mlist\u001b[39m(polynom_coeficents))\n\u001b[0;32m----> 2\u001b[0m cnt\u001b[38;5;241m.\u001b[39madd_polynom(\u001b[38;5;124m'\u001b[39m\u001b[38;5;124mampers\u001b[39m\u001b[38;5;124m'\u001b[39m,\u001b[38;5;28mlist\u001b[39m(polynom_coeficents))\n",
      "\u001b[0;31mNameError\u001b[0m: name 'cnt' is not defined"
     ]
    }
   ],
   "source": [
    "print(list(polynom_coeficents))\n",
    "ard.add_polynom('ampers',list(polynom_coeficents))"
   ]
  },
  {
   "cell_type": "code",
   "execution_count": 77,
   "id": "bdedf2fe",
   "metadata": {},
   "outputs": [
    {
     "data": {
      "text/plain": [
       "'equ:[1, 0] , volts:[0.001, 0] , zerro:[0] , ampers:[-0.009788782891869855, 24.159543475504957] , '"
      ]
     },
     "execution_count": 77,
     "metadata": {},
     "output_type": "execute_result"
    }
   ],
   "source": [
    "cnt.polynoms_list()"
   ]
  },
  {
   "cell_type": "code",
   "execution_count": 78,
   "id": "4ec7d7ed",
   "metadata": {},
   "outputs": [
    {
     "data": {
      "text/plain": [
       "13.83237752458226"
      ]
     },
     "execution_count": 78,
     "metadata": {},
     "output_type": "execute_result"
    }
   ],
   "source": [
    "cnt.read(0, 'ampers')"
   ]
  },
  {
   "cell_type": "code",
   "execution_count": 145,
   "id": "d3f1918f",
   "metadata": {},
   "outputs": [],
   "source": [
    "cnt.polynoms_to_file(\"polynoms121124.json\")"
   ]
  },
  {
   "cell_type": "code",
   "execution_count": null,
   "id": "dfd45979",
   "metadata": {},
   "outputs": [],
   "source": []
  },
  {
   "cell_type": "code",
   "execution_count": null,
   "id": "be6d2fe8-7235-47b0-97df-0724de4a17b1",
   "metadata": {},
   "outputs": [],
   "source": []
  },
  {
   "cell_type": "code",
   "execution_count": null,
   "id": "169e0dad-aa01-4f1a-9419-045ec39cc4de",
   "metadata": {},
   "outputs": [],
   "source": []
  }
 ],
 "metadata": {
  "kernelspec": {
   "display_name": "Python 3 (ipykernel)",
   "language": "python",
   "name": "python3"
  },
  "language_info": {
   "codemirror_mode": {
    "name": "ipython",
    "version": 3
   },
   "file_extension": ".py",
   "mimetype": "text/x-python",
   "name": "python",
   "nbconvert_exporter": "python",
   "pygments_lexer": "ipython3",
   "version": "3.11.13"
  }
 },
 "nbformat": 4,
 "nbformat_minor": 5
}
